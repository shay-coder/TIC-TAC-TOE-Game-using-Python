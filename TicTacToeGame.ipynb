{
  "nbformat": 4,
  "nbformat_minor": 0,
  "metadata": {
    "colab": {
      "provenance": []
    },
    "kernelspec": {
      "name": "python3",
      "display_name": "Python 3"
    },
    "language_info": {
      "name": "python"
    }
  },
  "cells": [
    {
      "cell_type": "code",
      "source": [
        "#Intialize with empty spaces\n",
        "\n",
        "board = [\" \"]*9\n",
        "\n",
        "\n",
        "#print tic toc toe\n",
        "def print_board():\n",
        "  [print('|', *board[i:i+3],'|')for i in range(0,9,3)]\n",
        "  print()\n",
        "\n",
        "\n",
        "\n",
        "  #fuction for player's move\n",
        "def player_move(icon):\n",
        "  print_board()\n",
        "  while True:\n",
        "    try:\n",
        "      choice = int(input(f\"Player {icon}'s turn. Enter your move from 1 to 9:\").strip())\n",
        "\n",
        "      if 1<= choice <=9 and board[choice-1] == \" \":\n",
        "        board[choice-1] = icon\n",
        "        break\n",
        "      else:\n",
        "        print('Invalid input. Please enter a number for empty space.')\n",
        "\n",
        "    except ValueError:\n",
        "      print('Invalid input Please enter a number')\n",
        "\n",
        "\n",
        "\n",
        "# Function to check if player has won\n",
        "\n",
        "def is_victory(icon):\n",
        "  winning_combinations = [(0,1,2), (3,4,5), (6,7,8),(0,3,6),(1,4,7),(2,5,8),(0,4,8),(2,4,6)]\n",
        "\n",
        "  #check if winning combinatiions is present\n",
        "\n",
        "  return any(all(board[i]== icon for i in combo) for combo in winning_combinations)\n",
        "\n",
        "# Function to check if game is draw\n",
        "def is_draw():\n",
        "\n",
        "  return \" \" not in board\n",
        "\n",
        "\n",
        "# Main Game Loop\n",
        "\n",
        "while True:\n",
        "  player_move(\"X\")\n",
        "  if is_victory(\"X\") or is_draw():\n",
        "    break\n",
        "\n",
        "  player_move(\"O\")\n",
        "  if is_victory(\"O\") or is_draw():\n",
        "    break\n",
        "\n",
        "\n",
        "#Display the final state of the board\n",
        "\n",
        "print(board)\n",
        "\n",
        "#Display result of the game\n",
        "if is_victory(\"X\"):\n",
        "  print(\"/nX wins! Congratulations\")\n",
        "\n",
        "elif is_victory(\"O\"):\n",
        "  print(\"/nO wins! Congratulations\")\n",
        "else:\n",
        "   (print('Draw!'))\n"
      ],
      "metadata": {
        "colab": {
          "base_uri": "https://localhost:8080/"
        },
        "id": "meXhtWtzTP_L",
        "outputId": "51ed8a47-789f-4105-b747-a22f61a3b240"
      },
      "execution_count": null,
      "outputs": [
        {
          "output_type": "stream",
          "name": "stdout",
          "text": [
            "|       |\n",
            "|       |\n",
            "|       |\n",
            "\n",
            "Player X's turn. Enter your move from 1 to 9:1\n",
            "| X     |\n",
            "|       |\n",
            "|       |\n",
            "\n",
            "Player O's turn. Enter your move from 1 to 9:3\n",
            "| X   O |\n",
            "|       |\n",
            "|       |\n",
            "\n",
            "Player X's turn. Enter your move from 1 to 9:5\n",
            "| X   O |\n",
            "|   X   |\n",
            "|       |\n",
            "\n",
            "Player O's turn. Enter your move from 1 to 9:2\n",
            "| X O O |\n",
            "|   X   |\n",
            "|       |\n",
            "\n",
            "Player X's turn. Enter your move from 1 to 9:9\n",
            "['X', 'O', 'O', ' ', 'X', ' ', ' ', ' ', 'X']\n",
            "/nX wins! Congratulations\n"
          ]
        }
      ]
    },
    {
      "cell_type": "code",
      "source": [],
      "metadata": {
        "id": "H6fDHV2iVRJK"
      },
      "execution_count": null,
      "outputs": []
    }
  ]
}